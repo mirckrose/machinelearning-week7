{
  "nbformat": 4,
  "nbformat_minor": 0,
  "metadata": {
    "colab": {
      "name": "A_Simple_XGBoost_Tutorial_Using_the_Iris_Dataset.ipynb",
      "provenance": [],
      "include_colab_link": true
    },
    "kernelspec": {
      "name": "python3",
      "display_name": "Python 3"
    },
    "language_info": {
      "name": "python"
    }
  },
  "cells": [
    {
      "cell_type": "markdown",
      "metadata": {
        "id": "view-in-github",
        "colab_type": "text"
      },
      "source": [
        "<a href=\"https://colab.research.google.com/github/mirckrose/machinelearning-week7/blob/main/A_Simple_XGBoost_Tutorial_Using_the_Iris_Dataset.ipynb\" target=\"_parent\"><img src=\"https://colab.research.google.com/assets/colab-badge.svg\" alt=\"Open In Colab\"/></a>"
      ]
    },
    {
      "cell_type": "code",
      "metadata": {
        "colab": {
          "base_uri": "https://localhost:8080/"
        },
        "id": "IBtVKHlTc8IQ",
        "outputId": "6f2e2fe2-e894-43ff-dcf8-6699c9a46f9e"
      },
      "source": [
        "import numpy as np\n",
        "import xgboost as xgb\n",
        "from sklearn import datasets\n",
        "from sklearn.model_selection import train_test_split\n",
        "from sklearn.datasets import dump_svmlight_file\n",
        "from sklearn.externals import joblib\n",
        "from sklearn.metrics import precision_score\n",
        "\n",
        "iris = datasets.load_iris()\n",
        "X = iris.data\n",
        "Y = iris.target\n",
        "\n",
        "X_latih, X_tes, Y_latih, Y_tes = train_test_split(X, Y, test_size=0.2, random_state=42)\n",
        "\n",
        "dtrain = xgb.DMatrix(X_latih, label=Y_latih)\n",
        "dtest = xgb.DMatrix(X_tes, label=Y_tes)\n",
        "\n",
        "dump_svmlight_file(X_latih, Y_latih, 'dtrain.svm', zero_based=True)\n",
        "dump_svmlight_file(X_test, Y_test, 'dtest.svm', zero_based=True)\n",
        "dtrain_svm = xgb.DMatrix('dtrain.svm')\n",
        "dtest_svm = xgb.DMatrix('dtest.svm')\n",
        "\n",
        "param = {\n",
        "    'max_depth': 3,\n",
        "    'eta': 0.3,\n",
        "    'silent': 1,\n",
        "    'objective': 'multi:softprob',\n",
        "    'num_class': 3}\n",
        "num_round = 20\n",
        "\n",
        "bst = xgb.train(param, dtrain, num_round)\n",
        "preds = bst.predict(dtest)\n",
        "\n",
        "best_preds = np.asarray([np.argmax(line) for line in preds])\n",
        "print(\"Numpy array precision:\", precision_score(Y_test, best_preds, average='macro'))\n",
        "\n",
        "bst_svm = xgb.train(param, dtrain_svm, num_round)\n",
        "preds = bst.predict(dtest_svm)\n",
        "\n",
        "best_preds_svm = [np.argmax(line) for line in preds]\n",
        "print(\"Svm file precision:\",precision_score(Y_test, best_preds_svm, average='macro'))\n",
        "\n",
        "bst.dump_model('dump.raw.txt')\n",
        "bst_svm.dump_model('dump_svm.raw.txt')\n",
        "\n",
        "joblib.dump(bst, 'bst_model.pkl', compress=True)\n",
        "joblib.dump(bst_svm, 'bst_svm_model.pkl', compress=True)"
      ],
      "execution_count": 3,
      "outputs": [
        {
          "output_type": "stream",
          "name": "stdout",
          "text": [
            "[03:41:30] 120x4 matrix with 480 entries loaded from dtrain.svm\n",
            "[03:41:30] 30x4 matrix with 120 entries loaded from dtest.svm\n",
            "Numpy array precision: 1.0\n",
            "Svm file precision: 1.0\n"
          ]
        },
        {
          "output_type": "execute_result",
          "data": {
            "text/plain": [
              "['bst_svm_model.pkl']"
            ]
          },
          "metadata": {},
          "execution_count": 3
        }
      ]
    }
  ]
}